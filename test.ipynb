{
 "cells": [
  {
   "cell_type": "code",
   "execution_count": 1,
   "metadata": {},
   "outputs": [],
   "source": [
    "import cnlp.util.corpus as corpus\n",
    "import cnlp.model.hmm as hmm\n",
    "import pickle"
   ]
  },
  {
   "cell_type": "code",
   "execution_count": 2,
   "metadata": {},
   "outputs": [
    {
     "name": "stdout",
     "output_type": "stream",
     "text": [
      "/Users/louis/code/learning-nlp/chapter-3/data/trainCorpus.txt_utf8\n"
     ]
    }
   ],
   "source": [
    "file_path = '/Users/louis/code/learning-nlp/chapter-3/data/trainCorpus.txt_utf8'\n",
    "segment_corpus = corpus.Corpus.read_segment_corpus(file_path)"
   ]
  },
  {
   "cell_type": "code",
   "execution_count": 3,
   "metadata": {},
   "outputs": [],
   "source": [
    "model = hmm.HMM()\n",
    "model.train(['B', 'M', 'E', 'S'], segment_corpus)"
   ]
  },
  {
   "cell_type": "code",
   "execution_count": 4,
   "metadata": {},
   "outputs": [
    {
     "name": "stdout",
     "output_type": "stream",
     "text": [
      "[{'B': 0.0005935263670588884, 'M': 0.0, 'E': 0.0, 'S': 0.00014487511613942572}, {'B': 5.1087175341705445e-08, 'M': 1.8522871160260908e-09, 'E': 2.9751575024749765e-07, 'S': 5.0073090384113146e-08}, {'B': 1.1828094914925523e-09, 'M': 2.4233925455704537e-11, 'E': 5.7098852400741624e-11, 'S': 9.17630737060362e-11}, {'B': 3.295492375055901e-15, 'M': 5.67849882734696e-13, 'E': 5.0524793277889456e-12, 'S': 3.249591224859728e-15}, {'B': 4.99608942530288e-15, 'M': 2.495370242533186e-16, 'E': 1.110550786174505e-15, 'S': 1.1000055095098477e-15}, {'B': 1.2222987564931955e-18, 'M': 5.924914515873774e-19, 'E': 1.535044823244755e-17, 'S': 3.050123352994575e-19}, {'B': 3.28103408916497e-20, 'M': 2.2002723530662125e-23, 'E': 2.324835805193421e-22, 'S': 2.4457641323815685e-21}, {'B': 7.647690697629178e-25, 'M': 2.7646667901106316e-24, 'E': 8.215037680371636e-23, 'S': 1.108626670549342e-25}, {'B': 6.686228092359371e-27, 'M': 3.764511075035039e-28, 'E': 2.247598907120516e-27, 'S': 9.671692658166909e-26}, {'B': 4.521409101275695e-30, 'M': 1.3910995745265883e-32, 'E': 8.081249517073335e-32, 'S': 1.5070093428397109e-30}, {'B': 1.0548989904513344e-33, 'M': 5.409021139188862e-35, 'E': 6.327617411191872e-34, 'S': 2.1453728429897487e-34}, {'B': 2.143363007864281e-37, 'M': 0.0, 'E': 2.4157784614015555e-38, 'S': 2.504769913329768e-38}, {'B': 3.0431301176515776e-42, 'M': 5.6856869703886707e-42, 'E': 3.8640194541747736e-40, 'S': 4.186688192653301e-42}, {'B': 1.9100553947945714e-42, 'M': 1.2668597815835395e-45, 'E': 6.958600618236158e-45, 'S': 1.0477495944224079e-43}, {'B': 3.1399825047365935e-47, 'M': 2.553266367268882e-46, 'E': 1.0350904658179221e-44, 'S': 6.159229269058339e-48}]\n"
     ]
    },
    {
     "data": {
      "text/plain": [
       "'城乡/经济/体制/改革/向/纵深/稳步/发展'"
      ]
     },
     "execution_count": 4,
     "metadata": {},
     "output_type": "execute_result"
    }
   ],
   "source": [
    "text = '城乡经济体制改革向纵深稳步发展'\n",
    "states = model.viterbi(list(text))\n",
    "result = corpus.Corpus.states2segments(states, text)\n",
    "'/'.join(result)"
   ]
  },
  {
   "cell_type": "code",
   "execution_count": 10,
   "metadata": {},
   "outputs": [],
   "source": [
    "a = 1e3"
   ]
  },
  {
   "cell_type": "code",
   "execution_count": 11,
   "metadata": {},
   "outputs": [
    {
     "data": {
      "text/plain": [
       "1000.0"
      ]
     },
     "execution_count": 11,
     "metadata": {},
     "output_type": "execute_result"
    }
   ],
   "source": [
    "a"
   ]
  },
  {
   "cell_type": "code",
   "execution_count": null,
   "metadata": {},
   "outputs": [],
   "source": []
  }
 ],
 "metadata": {
  "kernelspec": {
   "display_name": "Python 3",
   "language": "python",
   "name": "python3"
  },
  "language_info": {
   "codemirror_mode": {
    "name": "ipython",
    "version": 3
   },
   "file_extension": ".py",
   "mimetype": "text/x-python",
   "name": "python",
   "nbconvert_exporter": "python",
   "pygments_lexer": "ipython3",
   "version": "3.7.0"
  }
 },
 "nbformat": 4,
 "nbformat_minor": 2
}

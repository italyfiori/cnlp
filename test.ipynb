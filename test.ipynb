{
 "cells": [
  {
   "cell_type": "code",
   "execution_count": 1,
   "metadata": {},
   "outputs": [],
   "source": [
    "import cnlp.util.corpus as corpus\n",
    "import cnlp.model.hmm as hmm\n",
    "import pickle"
   ]
  },
  {
   "cell_type": "code",
   "execution_count": 2,
   "metadata": {},
   "outputs": [
    {
     "name": "stdout",
     "output_type": "stream",
     "text": [
      "/Users/louis/code/learning-nlp/chapter-3/data/trainCorpus.txt_utf8\n"
     ]
    }
   ],
   "source": [
    "file_path = '/Users/louis/code/learning-nlp/chapter-3/data/trainCorpus.txt_utf8'\n",
    "segment_corpus = corpus.Corpus.read_segment_corpus(file_path)"
   ]
  },
  {
   "cell_type": "code",
   "execution_count": 3,
   "metadata": {},
   "outputs": [],
   "source": [
    "model = hmm.HMM()\n",
    "model.train(['B', 'M', 'E', 'S'], segment_corpus)"
   ]
  },
  {
   "cell_type": "code",
   "execution_count": 6,
   "metadata": {},
   "outputs": [
    {
     "data": {
      "text/plain": [
       "'中国/卫/生部/官员/2/4日/说/，/截至/20/0/5年/底/，/中国/各地/报告/的/尘/肺/病/病人/累计/已/超过/60/万/例/，/职业/病/整体/防治/形势/严峻/。/卫/生部/副/部长/陈/啸/宏/在/当日/举行/的/“/国家/职业/卫生/示范/企业/授牌/暨/企业/职业/卫生/交流/大会/”/上/说/，/中国/各类/急性/职业/中毒/事故/每年/发生/20/0/多/起/，/上千人/中毒/，/直接/经济/损失/达/上百/亿/元/。/职业/病/病人/总量/大/、/发病/率/较/高/、/经济/损失/大/、/影响/恶劣/。/卫生/部2/4日/公布/，/2/00/5年/卫生/部共收到/全国/3/0个/省/、/自治区/、/直辖市/（/不/包括/西藏/、/港/、/澳/、/台/）/各类/职业/病/报告/12/21/2例/，/其/中/尘/肺/病/病例/报告/91/7/3例/，/占/75/．1/1%/。/陈/啸/宏/说/，/矽/肺/和/煤工/尘/肺/是/中国/最主要/的/尘/肺/病/，/且/尘/肺/病/发病/工龄/在/缩短/。/去年/报告/的/尘/肺/病/病人/中/最/短接/尘/时间/不足/三/个月/，/平均/发病/年龄/40/．9/岁/，/最/小/发病/年龄/20/岁/。/陈/啸/宏/表示/，/政府/部门/执法/不严/、/监督/不力/，/企业/生产/水平/不高/、/技术/设备/落后/等/是/职业/卫生/问题/严重/的/原因/。/“/但/更/重要/的/原因/是/有些/企业/法制/观念/淡/薄/，/社会/责任/严重/缺位/，/缺乏/维护/职工/健康/的/强烈/的/意识/，/职工/的/合法/权益/不能/得到/有效/的/保障/。/”/他/说/。/为/提高/企业/对/职业/卫生/工作/的/重视/，/卫/生部/、/国家/安全/生产/监督/管理/总局/和/中华/全国/总工/会2/4日/在/京/评选/出5/6家/国家/级/职业/卫生/工作/示范/企业/，/希望/这些/企业/为/社会/推广/职业/病/防治/经验/，/促使/其/他/企业/作好/职业/卫生/工作/，/保护/劳动者/健康/。'"
      ]
     },
     "execution_count": 6,
     "metadata": {},
     "output_type": "execute_result"
    }
   ],
   "source": [
    "text = '中国卫生部官员24日说，截至2005年底，中国各地报告的尘肺病病人累计已超过60万例，职业病整体防治形势严峻。卫生部副部长陈啸宏在当日举行的“国家职业卫生示范企业授牌暨企业职业卫生交流大会”上说，中国各类急性职业中毒事故每年发生200多起，上千人中毒，直接经济损失达上百亿元。职业病病人总量大、发病率较高、经济损失大、影响恶劣。卫生部24日公布，2005年卫生部共收到全国30个省、自治区、直辖市（不包括西藏、港、澳、台）各类职业病报告12212例，其中尘肺病病例报告9173例，占75．11%。陈啸宏说，矽肺和煤工尘肺是中国最主要的尘肺病，且尘肺病发病工龄在缩短。去年报告的尘肺病病人中最短接尘时间不足三个月，平均发病年龄40．9岁，最小发病年龄20岁。陈啸宏表示，政府部门执法不严、监督不力，企业生产水平不高、技术设备落后等是职业卫生问题严重的原因。“但更重要的原因是有些企业法制观念淡薄，社会责任严重缺位，缺乏维护职工健康的强烈的意识，职工的合法权益不能得到有效的保障。”他说。为提高企业对职业卫生工作的重视，卫生部、国家安全生产监督管理总局和中华全国总工会24日在京评选出56家国家级职业卫生工作示范企业，希望这些企业为社会推广职业病防治经验，促使其他企业作好职业卫生工作，保护劳动者健康。'\n",
    "states = model.viterbi(list(text))\n",
    "result = corpus.Corpus.states2segments(states, text)\n",
    "'/'.join(result)"
   ]
  },
  {
   "cell_type": "code",
   "execution_count": 5,
   "metadata": {},
   "outputs": [],
   "source": [
    "model.load_mode('hmm_model.pkl')"
   ]
  },
  {
   "cell_type": "code",
   "execution_count": null,
   "metadata": {},
   "outputs": [],
   "source": []
  }
 ],
 "metadata": {
  "kernelspec": {
   "display_name": "Python 3",
   "language": "python",
   "name": "python3"
  },
  "language_info": {
   "codemirror_mode": {
    "name": "ipython",
    "version": 3
   },
   "file_extension": ".py",
   "mimetype": "text/x-python",
   "name": "python",
   "nbconvert_exporter": "python",
   "pygments_lexer": "ipython3",
   "version": "3.7.0"
  }
 },
 "nbformat": 4,
 "nbformat_minor": 2
}

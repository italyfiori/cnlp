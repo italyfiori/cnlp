{
 "cells": [
  {
   "cell_type": "code",
   "execution_count": 5,
   "metadata": {},
   "outputs": [],
   "source": [
    "import cnlp.util.corpus as corpus\n",
    "import cnlp.model.hmm as hmm\n",
    "import pickle"
   ]
  },
  {
   "cell_type": "code",
   "execution_count": 12,
   "metadata": {},
   "outputs": [
    {
     "name": "stdout",
     "output_type": "stream",
     "text": [
      "/Users/louis/code/learning-nlp/chapter-3/data/trainCorpus.txt_utf8\n"
     ]
    }
   ],
   "source": [
    "file_path = '/Users/louis/code/learning-nlp/chapter-3/data/trainCorpus.txt_utf8'\n",
    "segment_corpus = corpus.Corpus.read_segment_corpus(file_path)\n",
    "\n",
    "model = hmm.HMM()\n",
    "model.train(['B', 'M', 'E', 'S'], segment_corpus)"
   ]
  },
  {
   "cell_type": "code",
   "execution_count": 13,
   "metadata": {},
   "outputs": [
    {
     "data": {
      "text/plain": [
       "'中华人民共和国/成立/了'"
      ]
     },
     "execution_count": 13,
     "metadata": {},
     "output_type": "execute_result"
    }
   ],
   "source": [
    "text = '中华人民共和国成立了'\n",
    "states = model.viterbi(list(text))\n",
    "result = corpus.Corpus.states2segments(states, text)\n",
    "'/'.join(result)"
   ]
  },
  {
   "cell_type": "code",
   "execution_count": 15,
   "metadata": {},
   "outputs": [],
   "source": [
    "import cnlp.segment as seg\n",
    "seg.init()"
   ]
  },
  {
   "cell_type": "code",
   "execution_count": 16,
   "metadata": {},
   "outputs": [
    {
     "data": {
      "text/plain": [
       "['中华', '人民共和国', '成立', '了']"
      ]
     },
     "execution_count": 16,
     "metadata": {},
     "output_type": "execute_result"
    }
   ],
   "source": [
    "seg.cut('中华人民共和国成立了')"
   ]
  }
 ],
 "metadata": {
  "kernelspec": {
   "display_name": "Python 3",
   "language": "python",
   "name": "python3"
  },
  "language_info": {
   "codemirror_mode": {
    "name": "ipython",
    "version": 3
   },
   "file_extension": ".py",
   "mimetype": "text/x-python",
   "name": "python",
   "nbconvert_exporter": "python",
   "pygments_lexer": "ipython3",
   "version": "3.7.0"
  }
 },
 "nbformat": 4,
 "nbformat_minor": 2
}
